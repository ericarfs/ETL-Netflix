{
  "cells": [
    {
      "cell_type": "code",
      "execution_count": 1,
      "metadata": {
        "id": "RCxzNhEwC936"
      },
      "outputs": [],
      "source": [
        "import pandas as pd\n",
        "import requests\n",
        "import os\n",
        "from pathlib import Path"
      ]
    },
    {
      "cell_type": "code",
      "execution_count": null,
      "metadata": {
        "id": "F5hCV8e0DXYb"
      },
      "outputs": [],
      "source": [
        "# Função para listar os arquivos no diretório do repositório\n",
        "def get_files_in_github_repo(owner, repo, path):\n",
        "    url = f\"https://api.github.com/repos/{owner}/{repo}/contents/{path}\"\n",
        "    response = requests.get(url)\n",
        "\n",
        "    if response.status_code == 200:\n",
        "        files = response.json()\n",
        "        return [file['name'] for file in files]\n",
        "    else:\n",
        "        print(f\"Erro ao acessar o repositório: {response.status_code}\")\n",
        "        return []\n",
        "\n",
        "# Função para gerar a URL de um arquivo CSV\n",
        "def get_url(owner, repo, path, filename):\n",
        "    return f\"https://raw.githubusercontent.com/{owner}/{repo}/main/{path}/{filename}\""
      ]
    },
    {
      "cell_type": "code",
      "execution_count": null,
      "metadata": {
        "id": "T-sLLDzEFD_2"
      },
      "outputs": [],
      "source": [
        "# Informações do repositório\n",
        "owner = \"ericarfs\"\n",
        "repo = \"ETL-Netflix\"\n",
        "path = \"src/data/raw\"\n",
        "\n",
        "# Listar arquivos no repositório\n",
        "files = get_files_in_github_repo(owner, repo, path)\n",
        "\n",
        "# Ler cada arquivo e armazenar os DataFrames em um dicionário\n",
        "excel_files = []\n",
        "for file in files:\n",
        "    url = get_url(owner, repo, path, file)\n",
        "    excel_files.append(url)"
      ]
    },
    {
      "cell_type": "code",
      "execution_count": null,
      "metadata": {
        "id": "YIZRrVHIS4BO"
      },
      "outputs": [],
      "source": [
        "if not excel_files:\n",
        "  print(\"Nenhum arquivo compátivel encontrado\")\n",
        "else:\n",
        "  dfs = []\n",
        "  for file in excel_files:\n",
        "    try:\n",
        "      #ler arquivo do excel\n",
        "      df_temp = pd.read_excel(file)\n",
        "\n",
        "      #pegar o nome do arquivo\n",
        "      file_path = Path(os.path.basename(file))\n",
        "\n",
        "      # Obtém o nome do arquivo sem a extensão\n",
        "      file_name = file_path.stem\n",
        "      df_temp[\"location\"] = file_name.split(\"_\")[2][:2]\n",
        "\n",
        "      #obter nome da campanha\n",
        "      df_temp[\"campaign\"] =  df_temp[\"utm_link\"].str.extract(r'utm_campaign=(.*)')\n",
        "\n",
        "      #Guardar dados tratados dentro de uma dataframe\n",
        "      dfs.append(df_temp)\n",
        "\n",
        "    except Exception as e:\n",
        "      print(f\"Erro ao ler o arquivo {file}: {e}\")\n"
      ]
    },
    {
      "cell_type": "code",
      "execution_count": null,
      "metadata": {
        "id": "i30N95bQYrZw"
      },
      "outputs": [],
      "source": [
        "BASE_DIR = \"./\"\n",
        "outputpath = \"src/data/ready\"\n",
        "if dfs:\n",
        "  result = pd.concat(dfs, ignore_index=True)\n",
        "  result = result.sort_values(by=\"sale_date\", ascending=True)\n",
        "  result = result.drop_duplicates()\n",
        "  output_file = os.path.join(BASE_DIR, \"clean.xlsx\")\n",
        "  result.to_excel(output_file, index=False)"
      ]
    }
  ],
  "metadata": {
    "colab": {
      "provenance": []
    },
    "kernelspec": {
      "display_name": "Python 3",
      "name": "python3"
    },
    "language_info": {
      "codemirror_mode": {
        "name": "ipython",
        "version": 3
      },
      "file_extension": ".py",
      "mimetype": "text/x-python",
      "name": "python",
      "nbconvert_exporter": "python",
      "pygments_lexer": "ipython3",
      "version": "3.10.12"
    }
  },
  "nbformat": 4,
  "nbformat_minor": 0
}
